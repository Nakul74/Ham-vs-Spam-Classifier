{
 "cells": [
  {
   "cell_type": "code",
   "execution_count": 1,
   "id": "0551daef",
   "metadata": {},
   "outputs": [],
   "source": [
    "import spacy\n",
    "import re\n",
    "import numpy as np\n",
    "from joblib import load"
   ]
  },
  {
   "cell_type": "code",
   "execution_count": 2,
   "id": "d0c23a8d",
   "metadata": {},
   "outputs": [],
   "source": [
    "nlp = spacy.load('en_core_web_sm')\n",
    "\n",
    "def remove_special_characters(text):\n",
    "    pattern=r'[^a-zA-z0-9\\s]'\n",
    "    text=re.sub(pattern,'',text)\n",
    "    text=re.sub(r'\\s+',' ',text)\n",
    "    return text\n",
    "\n",
    "#performing lemmitization with spacy\n",
    "def process(sent):\n",
    "    d = nlp(sent)\n",
    "    tokens=[]\n",
    "    \n",
    "    for i in d:\n",
    "        if i.lemma_ != '-PRON-':\n",
    "            tokens.append(i.lemma_)\n",
    "\n",
    "    tokens = ' '.join(tokens)\n",
    "    return tokens\n",
    "\n",
    "useless_words = load('words.joblib')\n",
    "def remove_words(d):\n",
    "    d = d.split()\n",
    "    tokens = [tok for tok in d if tok not in useless_words]\n",
    "    tokens = ' '.join(tokens)\n",
    "    return tokens"
   ]
  },
  {
   "cell_type": "code",
   "execution_count": 3,
   "id": "6affcf75",
   "metadata": {},
   "outputs": [],
   "source": [
    "def preprocess_text(sent):\n",
    "    text = remove_special_characters(sent)\n",
    "    text = process(text)\n",
    "    text = remove_words(text)\n",
    "    \n",
    "    return text"
   ]
  },
  {
   "cell_type": "code",
   "execution_count": 4,
   "id": "f223044f",
   "metadata": {},
   "outputs": [],
   "source": [
    "def predict(arr):\n",
    "    arr = preprocess_text(arr)\n",
    "    vec = load('vec.joblib') \n",
    "    bagging = load('logreg.joblib')\n",
    "    \n",
    "    arr = np.array([arr])\n",
    "    vect = vec.transform(arr)\n",
    "    \n",
    "    return bagging.predict(vect)"
   ]
  },
  {
   "cell_type": "code",
   "execution_count": 6,
   "id": "ef93c8e1",
   "metadata": {},
   "outputs": [
    {
     "name": "stdout",
     "output_type": "stream",
     "text": [
      "Enter the message :Call me after the meeting is over\n",
      "[0]\n"
     ]
    }
   ],
   "source": [
    "s = input('Enter the message :')\n",
    "prediction = predict(s)\n",
    "\n",
    "print(prediction)"
   ]
  },
  {
   "cell_type": "code",
   "execution_count": 7,
   "id": "c835ba49",
   "metadata": {},
   "outputs": [
    {
     "name": "stdout",
     "output_type": "stream",
     "text": [
      "Enter the message :Free credit card unlimited access\n",
      "[1]\n"
     ]
    }
   ],
   "source": [
    "s = input('Enter the message :')\n",
    "prediction = predict(s)\n",
    "\n",
    "print(prediction)"
   ]
  },
  {
   "cell_type": "markdown",
   "id": "f8f1869d",
   "metadata": {},
   "source": [
    "#### Testing with pywebio"
   ]
  },
  {
   "cell_type": "code",
   "execution_count": 5,
   "id": "5a0b70f4",
   "metadata": {},
   "outputs": [],
   "source": [
    "from pywebio.input import input,TEXT\n",
    "from pywebio.output import put_text"
   ]
  },
  {
   "cell_type": "code",
   "execution_count": 6,
   "id": "8204b7fc",
   "metadata": {},
   "outputs": [],
   "source": [
    "def predict_review():\n",
    "    s = input(\"Enter the review：\", type = TEXT)\n",
    "    prediction = predict(s)\n",
    "    \n",
    "    if prediction == 0:\n",
    "        review = 'Ham'\n",
    "    elif prediction == 1:\n",
    "        review = 'Spam'\n",
    "        \n",
    "    put_text('Message is : ',review)"
   ]
  },
  {
   "cell_type": "code",
   "execution_count": 7,
   "id": "156d3825",
   "metadata": {},
   "outputs": [],
   "source": [
    "predict_review()"
   ]
  },
  {
   "cell_type": "code",
   "execution_count": null,
   "id": "4c8dea4f",
   "metadata": {},
   "outputs": [],
   "source": []
  },
  {
   "cell_type": "code",
   "execution_count": null,
   "id": "01e8758f",
   "metadata": {},
   "outputs": [],
   "source": []
  }
 ],
 "metadata": {
  "kernelspec": {
   "display_name": "Python 3",
   "language": "python",
   "name": "python3"
  },
  "language_info": {
   "codemirror_mode": {
    "name": "ipython",
    "version": 3
   },
   "file_extension": ".py",
   "mimetype": "text/x-python",
   "name": "python",
   "nbconvert_exporter": "python",
   "pygments_lexer": "ipython3",
   "version": "3.7.7"
  }
 },
 "nbformat": 4,
 "nbformat_minor": 5
}
